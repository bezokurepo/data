{
 "cells": [
  {
   "cell_type": "code",
   "execution_count": 14,
   "id": "b4846539-133e-4500-9a20-68636c9aa70e",
   "metadata": {},
   "outputs": [
    {
     "ename": "SyntaxError",
     "evalue": "invalid syntax (1525450369.py, line 3)",
     "output_type": "error",
     "traceback": [
      "\u001b[0;36m  Cell \u001b[0;32mIn[14], line 3\u001b[0;36m\u001b[0m\n\u001b[0;31m    input_file = /processed_files/'cmu1_data'\u001b[0m\n\u001b[0m                 ^\u001b[0m\n\u001b[0;31mSyntaxError\u001b[0m\u001b[0;31m:\u001b[0m invalid syntax\n"
     ]
    }
   ],
   "source": [
    "# Remove characters from inout file and this code works\n",
    "# Specify the input and output file names\n",
    "input_file = 'cmu1_data'\n",
    "output_file = 'modified_cmu1_data'\n",
    "\n",
    "# Step 1: Open the input file in read mode\n",
    "with open(input_file, 'r', encoding='utf-8') as infile:\n",
    "    # Step 2: Open the output file in write mode\n",
    "    with open(output_file, 'w', encoding='utf-8') as outfile:\n",
    "        # Step 3: Read each line from the input file\n",
    "        for line in infile:\n",
    "            # Step 4: Remove characters from the second to the twelfth position\n",
    "            modified_line = line[:1] + line[12:]  # Keep the first character and everything after the twelfth\n",
    "            # Step 5: Write the modified line to the output file\n",
    "            outfile.write(modified_line)\n",
    "\n",
    "# The output file now contains the modified content with the specified characters removed."
   ]
  },
  {
   "cell_type": "code",
   "execution_count": 50,
   "id": "36f57ae9-7799-4008-8b63-bfbf9fdfb4b3",
   "metadata": {},
   "outputs": [
    {
     "name": "stderr",
     "output_type": "stream",
     "text": [
      "[nltk_data] Downloading package punkt to /Users/ian/nltk_data...\n",
      "[nltk_data]   Package punkt is already up-to-date!\n"
     ]
    },
    {
     "data": {
      "text/plain": [
       "True"
      ]
     },
     "execution_count": 50,
     "metadata": {},
     "output_type": "execute_result"
    }
   ],
   "source": [
    "# Ensure you have the necessary NLTK resources\n",
    "nltk.download('punkt')"
   ]
  },
  {
   "cell_type": "code",
   "execution_count": 66,
   "id": "ddfd3346-03e2-4d08-856d-781958927157",
   "metadata": {},
   "outputs": [
    {
     "name": "stdout",
     "output_type": "stream",
     "text": [
      "1\t(\t(\tX\tX\t_\t0\troot\t_\t_\n",
      "2\t``\t``\tX\tX\t_\t0\troot\t_\t_\n",
      "3\tLèfini\tlèfini\tX\tX\t_\t0\troot\t_\t_\n",
      "4\t,\t,\tX\tX\t_\t0\troot\t_\t_\n",
      "5\tJeremi\tjeremi\tX\tX\t_\t0\troot\t_\t_\n",
      "6\tkite\tkite\tX\tX\t_\t0\troot\t_\t_\n",
      "7\tTofèt\ttofèt\tX\tX\t_\t0\troot\t_\t_\n",
      "8\tkote\tkote\tX\tX\t_\t0\troot\t_\t_\n",
      "9\tSeyè\tseyè\tX\tX\t_\t0\troot\t_\t_\n",
      "10\ta\ta\tX\tX\t_\t0\troot\t_\t_\n",
      "11\tte\tte\tX\tX\t_\t0\troot\t_\t_\n",
      "12\tvoye\tvoye\tX\tX\t_\t0\troot\t_\t_\n",
      "13\tl\tl\tX\tX\t_\t0\troot\t_\t_\n",
      "14\tal\tal\tX\tX\t_\t0\troot\t_\t_\n",
      "15\tbay\tbay\tX\tX\t_\t0\troot\t_\t_\n",
      "16\tmesaj\tmesaj\tX\tX\t_\t0\troot\t_\t_\n",
      "17\tli\tli\tX\tX\t_\t0\troot\t_\t_\n",
      "18\ta\ta\tX\tX\t_\t0\troot\t_\t_\n",
      "19\t,\t,\tX\tX\t_\t0\troot\t_\t_\n",
      "20\tli\tli\tX\tX\t_\t0\troot\t_\t_\n",
      "21\tal\tal\tX\tX\t_\t0\troot\t_\t_\n",
      "22\tkanpe\tkanpe\tX\tX\t_\t0\troot\t_\t_\n",
      "23\tnan\tnan\tX\tX\t_\t0\troot\t_\t_\n",
      "24\tgwo\tgwo\tX\tX\t_\t0\troot\t_\t_\n",
      "25\tlakou\tlakou\tX\tX\t_\t0\troot\t_\t_\n",
      "26\tTanp\ttanp\tX\tX\t_\t0\troot\t_\t_\n",
      "27\tlan.\tlan.\tX\tX\t_\t0\troot\t_\t_\n",
      "28\t``\t``\tX\tX\t_\t0\troot\t_\t_\n",
      "29\t)\t)\tX\tX\t_\t0\troot\t_\t_\n",
      "30\t(\t(\tX\tX\t_\t0\troot\t_\t_\n",
      "31\t``\t``\tX\tX\t_\t0\troot\t_\t_\n",
      "32\tYo\tyo\tX\tX\t_\t0\troot\t_\t_\n",
      "33\tpral\tpral\tX\tX\t_\t0\troot\t_\t_\n",
      "34\tranmase\tranmase\tX\tX\t_\t0\troot\t_\t_\n",
      "35\tdènye\tdènye\tX\tX\t_\t0\troot\t_\t_\n",
      "36\tmoun\tmoun\tX\tX\t_\t0\troot\t_\t_\n",
      "37\tki\tki\tX\tX\t_\t0\troot\t_\t_\n",
      "38\trete\trete\tX\tX\t_\t0\troot\t_\t_\n",
      "39\tnan\tnan\tX\tX\t_\t0\troot\t_\t_\n",
      "40\tpeyi\tpeyi\tX\tX\t_\t0\troot\t_\t_\n",
      "41\tIzrayèl\tizrayèl\tX\tX\t_\t0\troot\t_\t_\n",
      "42\tla\tla\tX\tX\t_\t0\troot\t_\t_\n",
      "43\t,\t,\tX\tX\t_\t0\troot\t_\t_\n",
      "44\tmenm\tmenm\tX\tX\t_\t0\troot\t_\t_\n",
      "45\tjan\tjan\tX\tX\t_\t0\troot\t_\t_\n",
      "46\tyo\tyo\tX\tX\t_\t0\troot\t_\t_\n",
      "47\tranmase\tranmase\tX\tX\t_\t0\troot\t_\t_\n",
      "48\tdènye\tdènye\tX\tX\t_\t0\troot\t_\t_\n",
      "49\tgrap\tgrap\tX\tX\t_\t0\troot\t_\t_\n",
      "50\trezen\trezen\tX\tX\t_\t0\troot\t_\t_\n",
      "51\tlè\tlè\tX\tX\t_\t0\troot\t_\t_\n",
      "52\trekòt\trekòt\tX\tX\t_\t0\troot\t_\t_\n",
      "53\tfini.\tfini.\tX\tX\t_\t0\troot\t_\t_\n",
      "54\t``\t``\tX\tX\t_\t0\troot\t_\t_\n",
      "55\t)\t)\tX\tX\t_\t0\troot\t_\t_\n",
      "56\t(\t(\tX\tX\t_\t0\troot\t_\t_\n",
      "57\t``\t``\tX\tX\t_\t0\troot\t_\t_\n",
      "58\tKi\tki\tX\tX\t_\t0\troot\t_\t_\n",
      "59\tmoun\tmoun\tX\tX\t_\t0\troot\t_\t_\n",
      "60\tki\tki\tX\tX\t_\t0\troot\t_\t_\n",
      "61\tka\tka\tX\tX\t_\t0\troot\t_\t_\n",
      "62\tkonte\tkonte\tX\tX\t_\t0\troot\t_\t_\n",
      "63\tvalè\tvalè\tX\tX\t_\t0\troot\t_\t_\n",
      "64\tpitit\tpitit\tX\tX\t_\t0\troot\t_\t_\n",
      "65\tJakòb\tjakòb\tX\tX\t_\t0\troot\t_\t_\n",
      "66\tgenyen\tgenyen\tX\tX\t_\t0\troot\t_\t_\n",
      "67\t?\t?\tX\tX\t_\t0\troot\t_\t_\n",
      "68\t``\t``\tX\tX\t_\t0\troot\t_\t_\n",
      "69\t)\t)\tX\tX\t_\t0\troot\t_\t_\n",
      "70\t(\t(\tX\tX\t_\t0\troot\t_\t_\n",
      "71\t``\t``\tX\tX\t_\t0\troot\t_\t_\n",
      "72\tsakrifis\tsakrifis\tX\tX\t_\t0\troot\t_\t_\n",
      "73\tsa\tsa\tX\tX\t_\t0\troot\t_\t_\n",
      "74\ta\ta\tX\tX\t_\t0\troot\t_\t_\n",
      "75\tte\tte\tX\tX\t_\t0\troot\t_\t_\n",
      "76\tenpòtan\tenpòtan\tX\tX\t_\t0\troot\t_\t_\n",
      "77\tanpil\tanpil\tX\tX\t_\t0\troot\t_\t_\n",
      "78\t,\t,\tX\tX\t_\t0\troot\t_\t_\n",
      "79\tpaske\tpaske\tX\tX\t_\t0\troot\t_\t_\n",
      "80\teleksyon\teleksyon\tX\tX\t_\t0\troot\t_\t_\n",
      "81\tse\tse\tX\tX\t_\t0\troot\t_\t_\n",
      "82\tyoun\tyoun\tX\tX\t_\t0\troot\t_\t_\n",
      "83\tnan\tnan\tX\tX\t_\t0\troot\t_\t_\n",
      "84\tdwa\tdwa\tX\tX\t_\t0\troot\t_\t_\n",
      "85\tak\tak\tX\tX\t_\t0\troot\t_\t_\n",
      "86\tdevwa\tdevwa\tX\tX\t_\t0\troot\t_\t_\n",
      "87\tfondalnatal\tfondalnatal\tX\tX\t_\t0\troot\t_\t_\n",
      "88\tsitwayen\tsitwayen\tX\tX\t_\t0\troot\t_\t_\n",
      "89\tnan\tnan\tX\tX\t_\t0\troot\t_\t_\n",
      "90\tpeyi\tpeyi\tX\tX\t_\t0\troot\t_\t_\n",
      "91\ta.\ta.\tX\tX\t_\t0\troot\t_\t_\n",
      "92\t``\t``\tX\tX\t_\t0\troot\t_\t_\n",
      "93\t)\t)\tX\tX\t_\t0\troot\t_\t_\n",
      "94\t(\t(\tX\tX\t_\t0\troot\t_\t_\n",
      "95\t``\t``\tX\tX\t_\t0\troot\t_\t_\n",
      "96\tMoyiz\tmoyiz\tX\tX\t_\t0\troot\t_\t_\n",
      "97\tpran\tpran\tX\tX\t_\t0\troot\t_\t_\n",
      "98\ttant\ttant\tX\tX\t_\t0\troot\t_\t_\n",
      "99\tlan\tlan\tX\tX\t_\t0\troot\t_\t_\n",
      "100\t,\t,\tX\tX\t_\t0\troot\t_\t_\n",
      "\n"
     ]
    }
   ],
   "source": [
    "import nltk\n",
    "from nltk.tokenize import word_tokenize\n",
    "raw_text = 'modified_cmu1_data'\n",
    "with open(raw_text, 'r') as file:\n",
    "    raw_text = file.read()\n",
    "\n",
    "def tokenize_to_conllu(raw_text: str) -> str:\n",
    "    \"\"\"\n",
    "    Tokenizes the input raw text and formats it into CoNLL-U format.\n",
    "\n",
    "    Args:\n",
    "    raw_text (str): The input text to be tokenized.\n",
    "\n",
    "    Returns:\n",
    "    str: A string containing the CoNLL-U formatted output.\n",
    "    \"\"\"\n",
    "    # Tokenize the raw text\n",
    "    tokens = word_tokenize(raw_text)\n",
    "    \n",
    "    # Prepare the CoNLL-U formatted output\n",
    "    conllu_lines = []\n",
    "    \n",
    "    for idx, token in enumerate(tokens[:100], start=1):  # Start indexing from 1 for CoNLL-U\n",
    "        # Create a CoNLL-U line for each token\n",
    "        conllu_line = [\n",
    "            str(idx),          # ID\n",
    "            token,            # Form\n",
    "            token.lower(),    # Lemma (using lowercase as a simple example)\n",
    "            'X',              # UPOS (placeholder, replace with actual POS tagging)\n",
    "            'X',              # XPOS (placeholder)\n",
    "            '_',              # Feats (no features)\n",
    "            '0',              # Head (no dependency, set to 0 for root)\n",
    "            'root',           # Deprel (placeholder)\n",
    "            '_',              # Deps (no dependencies)\n",
    "            '_'               # Misc (no additional information)\n",
    "        ]\n",
    "        conllu_lines.append('\\t'.join(conllu_line))\n",
    "    \n",
    "    # Join the lines with newline characters and add a blank line at the end\n",
    "    return '\\n'.join(conllu_lines) + '\\n'\n",
    "\n",
    "# Example usage\n",
    "print(tokenize_to_conllu(raw_text))"
   ]
  },
  {
   "cell_type": "code",
   "execution_count": null,
   "id": "02bba5c2-7c7c-4797-b21d-884279e091fb",
   "metadata": {},
   "outputs": [],
   "source": []
  }
 ],
 "metadata": {
  "kernelspec": {
   "display_name": "Python 3 (ipykernel)",
   "language": "python",
   "name": "python3"
  },
  "language_info": {
   "codemirror_mode": {
    "name": "ipython",
    "version": 3
   },
   "file_extension": ".py",
   "mimetype": "text/x-python",
   "name": "python",
   "nbconvert_exporter": "python",
   "pygments_lexer": "ipython3",
   "version": "3.12.2"
  }
 },
 "nbformat": 4,
 "nbformat_minor": 5
}
